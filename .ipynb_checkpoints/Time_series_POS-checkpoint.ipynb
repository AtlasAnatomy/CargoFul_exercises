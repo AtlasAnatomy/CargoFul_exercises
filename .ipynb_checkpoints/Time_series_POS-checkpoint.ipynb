{
 "cells": [
  {
   "cell_type": "markdown",
   "id": "ad5a1a68-a534-4e26-af4d-0b2895348634",
   "metadata": {
    "editable": true,
    "slideshow": {
     "slide_type": ""
    },
    "tags": []
   },
   "source": [
    "# Exercise 1: Time series analysis and forecasting"
   ]
  },
  {
   "cell_type": "markdown",
   "id": "93544442-e6e4-4dc8-ba67-80d2841252e6",
   "metadata": {},
   "source": [
    "## 0. Venv Install using pip \n",
    "Upgrade pip and install usefull libraries. %%capture to avoid printing boring stuff"
   ]
  },
  {
   "cell_type": "code",
   "execution_count": 1,
   "id": "75ea054b-680c-4a73-b2cd-cb35b91c5592",
   "metadata": {},
   "outputs": [],
   "source": [
    "%%capture\n",
    "'''%pip install -U pip\n",
    "%pip install pandas\n",
    "%pip install matplotlib\n",
    "%pip install statsmodels\n",
    "%pip install -U scikit-learn\n",
    "%pip install ipywidgets\n",
    "%pip install jupyterlab_widgets\n",
    "%pip install seaborn\n",
    "%pip install plotly\n",
    "%pip install scipy'''"
   ]
  },
  {
   "cell_type": "markdown",
   "id": "16ae17d9-8f73-4f7d-b24a-fbe4f98f6cf4",
   "metadata": {},
   "source": [
    "### <span style=\"color:red\">Note: you need to install jupyter widgets (by using the following line or from the side bar) and restart the web page </span>"
   ]
  },
  {
   "cell_type": "code",
   "execution_count": 2,
   "id": "c1f628e5-a013-4b06-85bc-e28e4e29a420",
   "metadata": {},
   "outputs": [],
   "source": [
    "#!jupyter labextension install @jupyter-widgets/jupyterlab-manager\n",
    "#%pip install jupyterlab-link-share"
   ]
  },
  {
   "cell_type": "markdown",
   "id": "0caa6e72-6d80-43e1-bc99-52f0c27dab47",
   "metadata": {},
   "source": [
    "## 1. Import useful libraries\n",
    "Import libraries:\n",
    "1. **Panda** for data manipulation and handling datasets\n",
    "2. **Matplotlib**, **seaborn** and **plotly** for creating visualizations\n",
    "3. **Math** to perform various calculations\n",
    "4. **Statsmodels** testing basic statistical models\n",
    "5. **Scikit-learn** for model evaluation and assessment\n",
    "6. **Ipywidgets** to interact with the user\n",
    "7. Some local modules"
   ]
  },
  {
   "cell_type": "code",
   "execution_count": 3,
   "id": "b490c331-1d7a-407b-954b-277e0510bbae",
   "metadata": {
    "editable": true,
    "slideshow": {
     "slide_type": ""
    },
    "tags": []
   },
   "outputs": [],
   "source": [
    "import pandas as pd\n",
    "import numpy as np\n",
    "import matplotlib.pyplot as plt\n",
    "import math\n",
    "from statsmodels.tsa.seasonal import seasonal_decompose\n",
    "from statsmodels.tsa.arima.model import ARIMA\n",
    "from sklearn.metrics import mean_absolute_error, mean_squared_error\n",
    "import ipywidgets as widgets\n",
    "from IPython.display import display, Markdown\n",
    "import seaborn as sns\n",
    "import plotly.express as px\n",
    "import plotly.graph_objects as go\n",
    "from mpl_toolkits.mplot3d import Axes3D\n",
    "from plotly.subplots import make_subplots\n",
    "from plotting_func import location3D, quantity_trends\n",
    "from support_func import trim_outliers, pivot_weekday, combined_weekly_stats"
   ]
  },
  {
   "cell_type": "markdown",
   "id": "4e5853a2-1e2f-44a3-aaed-72df5c092d82",
   "metadata": {},
   "source": [
    "## 2. Import dataset\n",
    "Use panda to read the .csv as a dataframe and check the structure - columns, data types etc."
   ]
  },
  {
   "cell_type": "code",
   "execution_count": 4,
   "id": "0bc8a7d5-629d-422c-b04e-48a430bed4c5",
   "metadata": {},
   "outputs": [
    {
     "data": {
      "text/html": [
       "<div>\n",
       "<style scoped>\n",
       "    .dataframe tbody tr th:only-of-type {\n",
       "        vertical-align: middle;\n",
       "    }\n",
       "\n",
       "    .dataframe tbody tr th {\n",
       "        vertical-align: top;\n",
       "    }\n",
       "\n",
       "    .dataframe thead th {\n",
       "        text-align: right;\n",
       "    }\n",
       "</style>\n",
       "<table border=\"1\" class=\"dataframe\">\n",
       "  <thead>\n",
       "    <tr style=\"text-align: right;\">\n",
       "      <th></th>\n",
       "      <th>location_id</th>\n",
       "      <th>delivery_date</th>\n",
       "      <th>quantity1</th>\n",
       "      <th>latitude</th>\n",
       "      <th>longitude</th>\n",
       "      <th>is_event</th>\n",
       "    </tr>\n",
       "  </thead>\n",
       "  <tbody>\n",
       "    <tr>\n",
       "      <th>0</th>\n",
       "      <td>2884</td>\n",
       "      <td>2024-06-26</td>\n",
       "      <td>2</td>\n",
       "      <td>45.71072</td>\n",
       "      <td>10.04755</td>\n",
       "      <td>1</td>\n",
       "    </tr>\n",
       "    <tr>\n",
       "      <th>1</th>\n",
       "      <td>2884</td>\n",
       "      <td>2024-06-27</td>\n",
       "      <td>0</td>\n",
       "      <td>45.71072</td>\n",
       "      <td>10.04755</td>\n",
       "      <td>0</td>\n",
       "    </tr>\n",
       "    <tr>\n",
       "      <th>2</th>\n",
       "      <td>2884</td>\n",
       "      <td>2024-06-28</td>\n",
       "      <td>0</td>\n",
       "      <td>45.71072</td>\n",
       "      <td>10.04755</td>\n",
       "      <td>0</td>\n",
       "    </tr>\n",
       "    <tr>\n",
       "      <th>3</th>\n",
       "      <td>2884</td>\n",
       "      <td>2024-06-29</td>\n",
       "      <td>0</td>\n",
       "      <td>45.71072</td>\n",
       "      <td>10.04755</td>\n",
       "      <td>0</td>\n",
       "    </tr>\n",
       "    <tr>\n",
       "      <th>4</th>\n",
       "      <td>2884</td>\n",
       "      <td>2024-06-30</td>\n",
       "      <td>0</td>\n",
       "      <td>45.71072</td>\n",
       "      <td>10.04755</td>\n",
       "      <td>0</td>\n",
       "    </tr>\n",
       "  </tbody>\n",
       "</table>\n",
       "</div>"
      ],
      "text/plain": [
       "   location_id delivery_date  quantity1  latitude  longitude  is_event\n",
       "0         2884    2024-06-26          2  45.71072   10.04755         1\n",
       "1         2884    2024-06-27          0  45.71072   10.04755         0\n",
       "2         2884    2024-06-28          0  45.71072   10.04755         0\n",
       "3         2884    2024-06-29          0  45.71072   10.04755         0\n",
       "4         2884    2024-06-30          0  45.71072   10.04755         0"
      ]
     },
     "execution_count": 4,
     "metadata": {},
     "output_type": "execute_result"
    }
   ],
   "source": [
    "df = pd.read_csv('./Data/forecast_data.csv')\n",
    "df.head()"
   ]
  },
  {
   "cell_type": "code",
   "execution_count": 5,
   "id": "8bcb035f-f15e-420d-9e9a-2f9aa4d13cb4",
   "metadata": {},
   "outputs": [
    {
     "name": "stdout",
     "output_type": "stream",
     "text": [
      "<class 'pandas.core.frame.DataFrame'>\n",
      "RangeIndex: 347162 entries, 0 to 347161\n",
      "Data columns (total 6 columns):\n",
      " #   Column         Non-Null Count   Dtype  \n",
      "---  ------         --------------   -----  \n",
      " 0   location_id    347162 non-null  int64  \n",
      " 1   delivery_date  347162 non-null  object \n",
      " 2   quantity1      347162 non-null  int64  \n",
      " 3   latitude       347162 non-null  float64\n",
      " 4   longitude      347162 non-null  float64\n",
      " 5   is_event       347162 non-null  int64  \n",
      "dtypes: float64(2), int64(3), object(1)\n",
      "memory usage: 15.9+ MB\n"
     ]
    }
   ],
   "source": [
    "df.info()"
   ]
  },
  {
   "cell_type": "markdown",
   "id": "37fb1114-a02e-4638-8407-e14b2bb2a26f",
   "metadata": {},
   "source": [
    "## 3. Data Preprocessing\n",
    "Due to the dataset's large size and the potential lack of sorting, organize the data by id_location and delivery_date to ensure consistent ordering."
   ]
  },
  {
   "cell_type": "code",
   "execution_count": 6,
   "id": "703534e8-8bb9-4a83-a725-febdfa642d4b",
   "metadata": {},
   "outputs": [
    {
     "data": {
      "text/html": [
       "<div>\n",
       "<style scoped>\n",
       "    .dataframe tbody tr th:only-of-type {\n",
       "        vertical-align: middle;\n",
       "    }\n",
       "\n",
       "    .dataframe tbody tr th {\n",
       "        vertical-align: top;\n",
       "    }\n",
       "\n",
       "    .dataframe thead th {\n",
       "        text-align: right;\n",
       "    }\n",
       "</style>\n",
       "<table border=\"1\" class=\"dataframe\">\n",
       "  <thead>\n",
       "    <tr style=\"text-align: right;\">\n",
       "      <th></th>\n",
       "      <th>location_id</th>\n",
       "      <th>delivery_date</th>\n",
       "      <th>quantity1</th>\n",
       "      <th>latitude</th>\n",
       "      <th>longitude</th>\n",
       "      <th>is_event</th>\n",
       "    </tr>\n",
       "  </thead>\n",
       "  <tbody>\n",
       "    <tr>\n",
       "      <th>0</th>\n",
       "      <td>2884</td>\n",
       "      <td>2024-06-26</td>\n",
       "      <td>2</td>\n",
       "      <td>45.71072</td>\n",
       "      <td>10.04755</td>\n",
       "      <td>1</td>\n",
       "    </tr>\n",
       "    <tr>\n",
       "      <th>1</th>\n",
       "      <td>2884</td>\n",
       "      <td>2024-06-27</td>\n",
       "      <td>0</td>\n",
       "      <td>45.71072</td>\n",
       "      <td>10.04755</td>\n",
       "      <td>0</td>\n",
       "    </tr>\n",
       "    <tr>\n",
       "      <th>2</th>\n",
       "      <td>2884</td>\n",
       "      <td>2024-06-28</td>\n",
       "      <td>0</td>\n",
       "      <td>45.71072</td>\n",
       "      <td>10.04755</td>\n",
       "      <td>0</td>\n",
       "    </tr>\n",
       "    <tr>\n",
       "      <th>3</th>\n",
       "      <td>2884</td>\n",
       "      <td>2024-06-29</td>\n",
       "      <td>0</td>\n",
       "      <td>45.71072</td>\n",
       "      <td>10.04755</td>\n",
       "      <td>0</td>\n",
       "    </tr>\n",
       "    <tr>\n",
       "      <th>4</th>\n",
       "      <td>2884</td>\n",
       "      <td>2024-06-30</td>\n",
       "      <td>0</td>\n",
       "      <td>45.71072</td>\n",
       "      <td>10.04755</td>\n",
       "      <td>0</td>\n",
       "    </tr>\n",
       "  </tbody>\n",
       "</table>\n",
       "</div>"
      ],
      "text/plain": [
       "   location_id delivery_date  quantity1  latitude  longitude  is_event\n",
       "0         2884    2024-06-26          2  45.71072   10.04755         1\n",
       "1         2884    2024-06-27          0  45.71072   10.04755         0\n",
       "2         2884    2024-06-28          0  45.71072   10.04755         0\n",
       "3         2884    2024-06-29          0  45.71072   10.04755         0\n",
       "4         2884    2024-06-30          0  45.71072   10.04755         0"
      ]
     },
     "execution_count": 6,
     "metadata": {},
     "output_type": "execute_result"
    }
   ],
   "source": [
    "df['delivery_date'] = pd.to_datetime(df['delivery_date'])\n",
    "df = df.sort_values(['location_id', 'delivery_date']).reset_index(drop=True)\n",
    "df.head()"
   ]
  },
  {
   "cell_type": "markdown",
   "id": "7337a4a9-a500-471a-8e9f-ecbe3049aad8",
   "metadata": {},
   "source": [
    "Create two new DataFrames: one for weekly volumes and another for weekday volumes. \n",
    "Remove any columns unrelated to the forecasting process, and add columns indicating the week number and day of the week."
   ]
  },
  {
   "cell_type": "code",
   "execution_count": 7,
   "id": "52386cc7-9df6-4a61-942e-a995ec4d6ab6",
   "metadata": {},
   "outputs": [
    {
     "data": {
      "text/html": [
       "<div>\n",
       "<style scoped>\n",
       "    .dataframe tbody tr th:only-of-type {\n",
       "        vertical-align: middle;\n",
       "    }\n",
       "\n",
       "    .dataframe tbody tr th {\n",
       "        vertical-align: top;\n",
       "    }\n",
       "\n",
       "    .dataframe thead th {\n",
       "        text-align: right;\n",
       "    }\n",
       "</style>\n",
       "<table border=\"1\" class=\"dataframe\">\n",
       "  <thead>\n",
       "    <tr style=\"text-align: right;\">\n",
       "      <th></th>\n",
       "      <th>location_id</th>\n",
       "      <th>delivery_date</th>\n",
       "      <th>quantity1</th>\n",
       "      <th>is_event</th>\n",
       "      <th>week_number</th>\n",
       "      <th>weekday</th>\n",
       "    </tr>\n",
       "  </thead>\n",
       "  <tbody>\n",
       "    <tr>\n",
       "      <th>0</th>\n",
       "      <td>2884</td>\n",
       "      <td>06-26</td>\n",
       "      <td>2</td>\n",
       "      <td>1</td>\n",
       "      <td>26</td>\n",
       "      <td>Wednesday</td>\n",
       "    </tr>\n",
       "    <tr>\n",
       "      <th>1</th>\n",
       "      <td>2884</td>\n",
       "      <td>06-27</td>\n",
       "      <td>0</td>\n",
       "      <td>0</td>\n",
       "      <td>26</td>\n",
       "      <td>Thursday</td>\n",
       "    </tr>\n",
       "    <tr>\n",
       "      <th>2</th>\n",
       "      <td>2884</td>\n",
       "      <td>06-28</td>\n",
       "      <td>0</td>\n",
       "      <td>0</td>\n",
       "      <td>26</td>\n",
       "      <td>Friday</td>\n",
       "    </tr>\n",
       "    <tr>\n",
       "      <th>3</th>\n",
       "      <td>2884</td>\n",
       "      <td>06-29</td>\n",
       "      <td>0</td>\n",
       "      <td>0</td>\n",
       "      <td>26</td>\n",
       "      <td>Saturday</td>\n",
       "    </tr>\n",
       "    <tr>\n",
       "      <th>4</th>\n",
       "      <td>2884</td>\n",
       "      <td>06-30</td>\n",
       "      <td>0</td>\n",
       "      <td>0</td>\n",
       "      <td>26</td>\n",
       "      <td>Sunday</td>\n",
       "    </tr>\n",
       "    <tr>\n",
       "      <th>...</th>\n",
       "      <td>...</td>\n",
       "      <td>...</td>\n",
       "      <td>...</td>\n",
       "      <td>...</td>\n",
       "      <td>...</td>\n",
       "      <td>...</td>\n",
       "    </tr>\n",
       "    <tr>\n",
       "      <th>347157</th>\n",
       "      <td>14821</td>\n",
       "      <td>10-18</td>\n",
       "      <td>4</td>\n",
       "      <td>1</td>\n",
       "      <td>42</td>\n",
       "      <td>Friday</td>\n",
       "    </tr>\n",
       "    <tr>\n",
       "      <th>347158</th>\n",
       "      <td>14825</td>\n",
       "      <td>10-18</td>\n",
       "      <td>4</td>\n",
       "      <td>1</td>\n",
       "      <td>42</td>\n",
       "      <td>Friday</td>\n",
       "    </tr>\n",
       "    <tr>\n",
       "      <th>347159</th>\n",
       "      <td>14833</td>\n",
       "      <td>10-18</td>\n",
       "      <td>7</td>\n",
       "      <td>1</td>\n",
       "      <td>42</td>\n",
       "      <td>Friday</td>\n",
       "    </tr>\n",
       "    <tr>\n",
       "      <th>347160</th>\n",
       "      <td>14834</td>\n",
       "      <td>10-18</td>\n",
       "      <td>5</td>\n",
       "      <td>1</td>\n",
       "      <td>42</td>\n",
       "      <td>Friday</td>\n",
       "    </tr>\n",
       "    <tr>\n",
       "      <th>347161</th>\n",
       "      <td>14835</td>\n",
       "      <td>10-18</td>\n",
       "      <td>2</td>\n",
       "      <td>1</td>\n",
       "      <td>42</td>\n",
       "      <td>Friday</td>\n",
       "    </tr>\n",
       "  </tbody>\n",
       "</table>\n",
       "<p>347162 rows × 6 columns</p>\n",
       "</div>"
      ],
      "text/plain": [
       "        location_id delivery_date  quantity1  is_event  week_number    weekday\n",
       "0              2884         06-26          2         1           26  Wednesday\n",
       "1              2884         06-27          0         0           26   Thursday\n",
       "2              2884         06-28          0         0           26     Friday\n",
       "3              2884         06-29          0         0           26   Saturday\n",
       "4              2884         06-30          0         0           26     Sunday\n",
       "...             ...           ...        ...       ...          ...        ...\n",
       "347157        14821         10-18          4         1           42     Friday\n",
       "347158        14825         10-18          4         1           42     Friday\n",
       "347159        14833         10-18          7         1           42     Friday\n",
       "347160        14834         10-18          5         1           42     Friday\n",
       "347161        14835         10-18          2         1           42     Friday\n",
       "\n",
       "[347162 rows x 6 columns]"
      ]
     },
     "execution_count": 7,
     "metadata": {},
     "output_type": "execute_result"
    }
   ],
   "source": [
    "df['week_number'] = df['delivery_date'].dt.isocalendar().week\n",
    "df['weekday'] = df['delivery_date'].dt.day_name()\n",
    "df['delivery_date']=df['delivery_date'].dt.strftime('%m-%d')\n",
    "df_withoutGEO = df.drop(columns=['latitude', 'longitude'])\n",
    "df_withoutGEO"
   ]
  },
  {
   "cell_type": "code",
   "execution_count": 8,
   "id": "4b582a03-3485-4c37-a7e3-feb9efc03c7f",
   "metadata": {},
   "outputs": [],
   "source": [
    "weekly_data = df_withoutGEO.groupby(['location_id', 'week_number']).agg({\n",
    "    'quantity1': 'sum', \n",
    "    'is_event': 'sum'   \n",
    "}).reset_index()\n",
    "\n",
    "daily_data = df_withoutGEO.groupby(['location_id', 'weekday']).agg({\n",
    "    'quantity1': 'sum',\n",
    "    'is_event': 'sum'\n",
    "}).reset_index()"
   ]
  },
  {
   "cell_type": "code",
   "execution_count": 9,
   "id": "3a2170b6-1b1e-41c2-a106-292421433bcf",
   "metadata": {},
   "outputs": [
    {
     "name": "stdout",
     "output_type": "stream",
     "text": [
      "Weekly Data:\n"
     ]
    },
    {
     "data": {
      "text/html": [
       "<div>\n",
       "<style scoped>\n",
       "    .dataframe tbody tr th:only-of-type {\n",
       "        vertical-align: middle;\n",
       "    }\n",
       "\n",
       "    .dataframe tbody tr th {\n",
       "        vertical-align: top;\n",
       "    }\n",
       "\n",
       "    .dataframe thead th {\n",
       "        text-align: right;\n",
       "    }\n",
       "</style>\n",
       "<table border=\"1\" class=\"dataframe\">\n",
       "  <thead>\n",
       "    <tr style=\"text-align: right;\">\n",
       "      <th></th>\n",
       "      <th>location_id</th>\n",
       "      <th>week_number</th>\n",
       "      <th>quantity1</th>\n",
       "      <th>is_event</th>\n",
       "    </tr>\n",
       "  </thead>\n",
       "  <tbody>\n",
       "    <tr>\n",
       "      <th>0</th>\n",
       "      <td>2884</td>\n",
       "      <td>26</td>\n",
       "      <td>2</td>\n",
       "      <td>1</td>\n",
       "    </tr>\n",
       "    <tr>\n",
       "      <th>1</th>\n",
       "      <td>2884</td>\n",
       "      <td>27</td>\n",
       "      <td>0</td>\n",
       "      <td>0</td>\n",
       "    </tr>\n",
       "    <tr>\n",
       "      <th>2</th>\n",
       "      <td>2884</td>\n",
       "      <td>28</td>\n",
       "      <td>3</td>\n",
       "      <td>1</td>\n",
       "    </tr>\n",
       "    <tr>\n",
       "      <th>3</th>\n",
       "      <td>2884</td>\n",
       "      <td>29</td>\n",
       "      <td>0</td>\n",
       "      <td>0</td>\n",
       "    </tr>\n",
       "    <tr>\n",
       "      <th>4</th>\n",
       "      <td>2884</td>\n",
       "      <td>30</td>\n",
       "      <td>0</td>\n",
       "      <td>0</td>\n",
       "    </tr>\n",
       "  </tbody>\n",
       "</table>\n",
       "</div>"
      ],
      "text/plain": [
       "   location_id  week_number  quantity1  is_event\n",
       "0         2884           26          2         1\n",
       "1         2884           27          0         0\n",
       "2         2884           28          3         1\n",
       "3         2884           29          0         0\n",
       "4         2884           30          0         0"
      ]
     },
     "execution_count": 9,
     "metadata": {},
     "output_type": "execute_result"
    }
   ],
   "source": [
    "print(\"Weekly Data:\")\n",
    "weekly_data.head()"
   ]
  },
  {
   "cell_type": "code",
   "execution_count": 10,
   "id": "db80cb4e-8c7b-4e32-8611-5c83f87dde12",
   "metadata": {},
   "outputs": [
    {
     "name": "stdout",
     "output_type": "stream",
     "text": [
      "Weekday Total Data:\n"
     ]
    },
    {
     "data": {
      "text/html": [
       "<div>\n",
       "<style scoped>\n",
       "    .dataframe tbody tr th:only-of-type {\n",
       "        vertical-align: middle;\n",
       "    }\n",
       "\n",
       "    .dataframe tbody tr th {\n",
       "        vertical-align: top;\n",
       "    }\n",
       "\n",
       "    .dataframe thead th {\n",
       "        text-align: right;\n",
       "    }\n",
       "</style>\n",
       "<table border=\"1\" class=\"dataframe\">\n",
       "  <thead>\n",
       "    <tr style=\"text-align: right;\">\n",
       "      <th></th>\n",
       "      <th>location_id</th>\n",
       "      <th>weekday</th>\n",
       "      <th>quantity1</th>\n",
       "      <th>is_event</th>\n",
       "    </tr>\n",
       "  </thead>\n",
       "  <tbody>\n",
       "    <tr>\n",
       "      <th>0</th>\n",
       "      <td>2884</td>\n",
       "      <td>Friday</td>\n",
       "      <td>0</td>\n",
       "      <td>0</td>\n",
       "    </tr>\n",
       "    <tr>\n",
       "      <th>1</th>\n",
       "      <td>2884</td>\n",
       "      <td>Monday</td>\n",
       "      <td>10</td>\n",
       "      <td>4</td>\n",
       "    </tr>\n",
       "    <tr>\n",
       "      <th>2</th>\n",
       "      <td>2884</td>\n",
       "      <td>Saturday</td>\n",
       "      <td>0</td>\n",
       "      <td>0</td>\n",
       "    </tr>\n",
       "    <tr>\n",
       "      <th>3</th>\n",
       "      <td>2884</td>\n",
       "      <td>Sunday</td>\n",
       "      <td>0</td>\n",
       "      <td>0</td>\n",
       "    </tr>\n",
       "    <tr>\n",
       "      <th>4</th>\n",
       "      <td>2884</td>\n",
       "      <td>Thursday</td>\n",
       "      <td>0</td>\n",
       "      <td>0</td>\n",
       "    </tr>\n",
       "    <tr>\n",
       "      <th>5</th>\n",
       "      <td>2884</td>\n",
       "      <td>Tuesday</td>\n",
       "      <td>0</td>\n",
       "      <td>0</td>\n",
       "    </tr>\n",
       "    <tr>\n",
       "      <th>6</th>\n",
       "      <td>2884</td>\n",
       "      <td>Wednesday</td>\n",
       "      <td>11</td>\n",
       "      <td>5</td>\n",
       "    </tr>\n",
       "  </tbody>\n",
       "</table>\n",
       "</div>"
      ],
      "text/plain": [
       "   location_id    weekday  quantity1  is_event\n",
       "0         2884     Friday          0         0\n",
       "1         2884     Monday         10         4\n",
       "2         2884   Saturday          0         0\n",
       "3         2884     Sunday          0         0\n",
       "4         2884   Thursday          0         0\n",
       "5         2884    Tuesday          0         0\n",
       "6         2884  Wednesday         11         5"
      ]
     },
     "execution_count": 10,
     "metadata": {},
     "output_type": "execute_result"
    }
   ],
   "source": [
    "print(\"Weekday Total Data:\")\n",
    "daily_data.head(7)"
   ]
  },
  {
   "cell_type": "code",
   "execution_count": 11,
   "id": "527485d4-0168-4b5d-9bab-e420672ad08c",
   "metadata": {},
   "outputs": [
    {
     "data": {
      "text/plain": [
       "count     13.000000\n",
       "mean     134.538462\n",
       "std       90.416274\n",
       "min       47.000000\n",
       "25%       55.000000\n",
       "50%      120.000000\n",
       "75%      202.000000\n",
       "max      331.000000\n",
       "Name: quantity1, dtype: float64"
      ]
     },
     "metadata": {},
     "output_type": "display_data"
    },
    {
     "name": "stdout",
     "output_type": "stream",
     "text": [
      "Weekday Mean and Variance (when events occur):\n"
     ]
    },
    {
     "data": {
      "text/html": [
       "<div>\n",
       "<style scoped>\n",
       "    .dataframe tbody tr th:only-of-type {\n",
       "        vertical-align: middle;\n",
       "    }\n",
       "\n",
       "    .dataframe tbody tr th {\n",
       "        vertical-align: top;\n",
       "    }\n",
       "\n",
       "    .dataframe thead th {\n",
       "        text-align: right;\n",
       "    }\n",
       "</style>\n",
       "<table border=\"1\" class=\"dataframe\">\n",
       "  <thead>\n",
       "    <tr style=\"text-align: right;\">\n",
       "      <th></th>\n",
       "      <th>location_id</th>\n",
       "      <th>weekday</th>\n",
       "      <th>mean</th>\n",
       "      <th>var</th>\n",
       "    </tr>\n",
       "  </thead>\n",
       "  <tbody>\n",
       "    <tr>\n",
       "      <th>0</th>\n",
       "      <td>2884</td>\n",
       "      <td>Monday</td>\n",
       "      <td>2.5</td>\n",
       "      <td>0.333333</td>\n",
       "    </tr>\n",
       "    <tr>\n",
       "      <th>1</th>\n",
       "      <td>2884</td>\n",
       "      <td>Wednesday</td>\n",
       "      <td>2.2</td>\n",
       "      <td>0.200000</td>\n",
       "    </tr>\n",
       "    <tr>\n",
       "      <th>2</th>\n",
       "      <td>2885</td>\n",
       "      <td>Monday</td>\n",
       "      <td>8.0</td>\n",
       "      <td>2.461538</td>\n",
       "    </tr>\n",
       "    <tr>\n",
       "      <th>3</th>\n",
       "      <td>2886</td>\n",
       "      <td>Friday</td>\n",
       "      <td>6.0</td>\n",
       "      <td>NaN</td>\n",
       "    </tr>\n",
       "    <tr>\n",
       "      <th>4</th>\n",
       "      <td>2886</td>\n",
       "      <td>Monday</td>\n",
       "      <td>8.4</td>\n",
       "      <td>0.488889</td>\n",
       "    </tr>\n",
       "  </tbody>\n",
       "</table>\n",
       "</div>"
      ],
      "text/plain": [
       "   location_id    weekday  mean       var\n",
       "0         2884     Monday   2.5  0.333333\n",
       "1         2884  Wednesday   2.2  0.200000\n",
       "2         2885     Monday   8.0  2.461538\n",
       "3         2886     Friday   6.0       NaN\n",
       "4         2886     Monday   8.4  0.488889"
      ]
     },
     "execution_count": 11,
     "metadata": {},
     "output_type": "execute_result"
    }
   ],
   "source": [
    "event_data_filtered = df_withoutGEO[df_withoutGEO['is_event'] == 1]\n",
    "specific_data = event_data_filtered[(event_data_filtered['location_id'] == 3719) & (event_data_filtered['weekday'] == 'Monday')]\n",
    "display(specific_data['quantity1'].describe())\n",
    "weekly_stats = event_data_filtered.groupby(['location_id', 'weekday'])['quantity1'].agg(['mean', 'var']).reset_index()\n",
    "print(\"Weekday Mean and Variance (when events occur):\")\n",
    "weekly_stats.head()"
   ]
  },
  {
   "cell_type": "code",
   "execution_count": 12,
   "id": "0885d2a5-20a1-49b4-bd22-6661f6d535f6",
   "metadata": {},
   "outputs": [
    {
     "data": {
      "text/markdown": [
       "### Enter the POS ID to pivot:"
      ],
      "text/plain": [
       "<IPython.core.display.Markdown object>"
      ]
     },
     "metadata": {},
     "output_type": "display_data"
    },
    {
     "data": {
      "application/vnd.jupyter.widget-view+json": {
       "model_id": "bd7231f3ca3746d5b19eb0a955b1cc1c",
       "version_major": 2,
       "version_minor": 0
      },
      "text/plain": [
       "Dropdown(description='ID:', index=1, options=('2884', '2885', '2886', '2888', '2889', '2890', '2891', '2892', …"
      ]
     },
     "execution_count": 12,
     "metadata": {},
     "output_type": "execute_result"
    }
   ],
   "source": [
    "display(Markdown(\"### Enter the POS ID to pivot:\"))\n",
    "location_ids = df['location_id'].unique()\n",
    "location_ids_str = [str(id) for id in location_ids]\n",
    "ID = widgets.Dropdown(\n",
    "    options=location_ids_str,\n",
    "    value='2885',\n",
    "    description='ID:',\n",
    "    disabled=False,\n",
    ")\n",
    "ID"
   ]
  },
  {
   "cell_type": "code",
   "execution_count": 13,
   "id": "4e80edbe-d262-4fc6-be6d-907d9121dead",
   "metadata": {},
   "outputs": [
    {
     "data": {
      "text/plain": [
       "<module 'matplotlib.pyplot' from 'C:\\\\Users\\\\Tomma\\\\PycharmProjects\\\\Time_series_Cargo_ful\\\\venv\\\\lib\\\\site-packages\\\\matplotlib\\\\pyplot.py'>"
      ]
     },
     "execution_count": 13,
     "metadata": {},
     "output_type": "execute_result"
    },
    {
     "data": {
      "image/png": "[encoded data removed]",
      "text/plain": [
       "<Figure size 1000x800 with 2 Axes>"
      ]
     },
     "metadata": {},
     "output_type": "display_data"
    }
   ],
   "source": [
    "#Pivot\n",
    "location_id_filter=ID.value\n",
    "pivot=pivot_weekday(df_withoutGEO,location_id_filter)\n",
    "\n",
    "#Heatmap\n",
    "pivot.set_index('week_number', inplace=True)\n",
    "plt.figure(figsize=(10, 8))\n",
    "sns.heatmap(pivot, annot=True, fmt=\"d\", cmap=\"YlGnBu\", cbar_kws={'label': 'Quantity'})\n",
    "plt.xlabel('Weekday')\n",
    "plt.ylabel('Week Number')\n",
    "plt.title(f'Quantity by Weekday for Location {location_id_filter}')\n",
    "plt"
   ]
  },
  {
   "cell_type": "markdown",
   "id": "34fabaca-80fc-4ffa-aab1-d5491a64c984",
   "metadata": {},
   "source": [
    "## 4. Data exploration\n",
    "\n",
    "### 4.1 Data Distributions\n",
    "Grouping the data by POS will help visualize the total days, events, and quantities associated with each location.\n",
    "An additional metric for assessing dataset quality could be the percentage of event and non-event days recorded, as well as events per day, for each POS."
   ]
  },
  {
   "cell_type": "code",
   "execution_count": 14,
   "id": "832ea6ac-a002-4df7-a647-b9ffb5ee9c50",
   "metadata": {
    "editable": true,
    "slideshow": {
     "slide_type": ""
    },
    "tags": []
   },
   "outputs": [
    {
     "data": {
      "text/html": [
       "<div>\n",
       "<style scoped>\n",
       "    .dataframe tbody tr th:only-of-type {\n",
       "        vertical-align: middle;\n",
       "    }\n",
       "\n",
       "    .dataframe tbody tr th {\n",
       "        vertical-align: top;\n",
       "    }\n",
       "\n",
       "    .dataframe thead th {\n",
       "        text-align: right;\n",
       "    }\n",
       "</style>\n",
       "<table border=\"1\" class=\"dataframe\">\n",
       "  <thead>\n",
       "    <tr style=\"text-align: right;\">\n",
       "      <th></th>\n",
       "      <th>location_id</th>\n",
       "      <th>total_quantity</th>\n",
       "      <th>days_recorded</th>\n",
       "      <th>events_count</th>\n",
       "      <th>event_percentage</th>\n",
       "      <th>zero_event_percentage</th>\n",
       "      <th>events_per_day</th>\n",
       "    </tr>\n",
       "  </thead>\n",
       "  <tbody>\n",
       "    <tr>\n",
       "      <th>0</th>\n",
       "      <td>2884</td>\n",
       "      <td>21</td>\n",
       "      <td>115</td>\n",
       "      <td>9</td>\n",
       "      <td>7.826087</td>\n",
       "      <td>92.173913</td>\n",
       "      <td>0.078261</td>\n",
       "    </tr>\n",
       "    <tr>\n",
       "      <th>1</th>\n",
       "      <td>2885</td>\n",
       "      <td>112</td>\n",
       "      <td>117</td>\n",
       "      <td>14</td>\n",
       "      <td>11.965812</td>\n",
       "      <td>88.034188</td>\n",
       "      <td>0.119658</td>\n",
       "    </tr>\n",
       "    <tr>\n",
       "      <th>2</th>\n",
       "      <td>2886</td>\n",
       "      <td>90</td>\n",
       "      <td>117</td>\n",
       "      <td>11</td>\n",
       "      <td>9.401709</td>\n",
       "      <td>90.598291</td>\n",
       "      <td>0.094017</td>\n",
       "    </tr>\n",
       "    <tr>\n",
       "      <th>3</th>\n",
       "      <td>2888</td>\n",
       "      <td>17</td>\n",
       "      <td>110</td>\n",
       "      <td>7</td>\n",
       "      <td>6.363636</td>\n",
       "      <td>93.636364</td>\n",
       "      <td>0.063636</td>\n",
       "    </tr>\n",
       "    <tr>\n",
       "      <th>4</th>\n",
       "      <td>2889</td>\n",
       "      <td>185</td>\n",
       "      <td>116</td>\n",
       "      <td>14</td>\n",
       "      <td>12.068966</td>\n",
       "      <td>87.931034</td>\n",
       "      <td>0.120690</td>\n",
       "    </tr>\n",
       "    <tr>\n",
       "      <th>...</th>\n",
       "      <td>...</td>\n",
       "      <td>...</td>\n",
       "      <td>...</td>\n",
       "      <td>...</td>\n",
       "      <td>...</td>\n",
       "      <td>...</td>\n",
       "      <td>...</td>\n",
       "    </tr>\n",
       "    <tr>\n",
       "      <th>3419</th>\n",
       "      <td>14821</td>\n",
       "      <td>4</td>\n",
       "      <td>1</td>\n",
       "      <td>1</td>\n",
       "      <td>100.000000</td>\n",
       "      <td>0.000000</td>\n",
       "      <td>1.000000</td>\n",
       "    </tr>\n",
       "    <tr>\n",
       "      <th>3420</th>\n",
       "      <td>14825</td>\n",
       "      <td>4</td>\n",
       "      <td>1</td>\n",
       "      <td>1</td>\n",
       "      <td>100.000000</td>\n",
       "      <td>0.000000</td>\n",
       "      <td>1.000000</td>\n",
       "    </tr>\n",
       "    <tr>\n",
       "      <th>3421</th>\n",
       "      <td>14833</td>\n",
       "      <td>7</td>\n",
       "      <td>1</td>\n",
       "      <td>1</td>\n",
       "      <td>100.000000</td>\n",
       "      <td>0.000000</td>\n",
       "      <td>1.000000</td>\n",
       "    </tr>\n",
       "    <tr>\n",
       "      <th>3422</th>\n",
       "      <td>14834</td>\n",
       "      <td>5</td>\n",
       "      <td>1</td>\n",
       "      <td>1</td>\n",
       "      <td>100.000000</td>\n",
       "      <td>0.000000</td>\n",
       "      <td>1.000000</td>\n",
       "    </tr>\n",
       "    <tr>\n",
       "      <th>3423</th>\n",
       "      <td>14835</td>\n",
       "      <td>2</td>\n",
       "      <td>1</td>\n",
       "      <td>1</td>\n",
       "      <td>100.000000</td>\n",
       "      <td>0.000000</td>\n",
       "      <td>1.000000</td>\n",
       "    </tr>\n",
       "  </tbody>\n",
       "</table>\n",
       "<p>3424 rows × 7 columns</p>\n",
       "</div>"
      ],
      "text/plain": [
       "      location_id  total_quantity  days_recorded  events_count  \\\n",
       "0            2884              21            115             9   \n",
       "1            2885             112            117            14   \n",
       "2            2886              90            117            11   \n",
       "3            2888              17            110             7   \n",
       "4            2889             185            116            14   \n",
       "...           ...             ...            ...           ...   \n",
       "3419        14821               4              1             1   \n",
       "3420        14825               4              1             1   \n",
       "3421        14833               7              1             1   \n",
       "3422        14834               5              1             1   \n",
       "3423        14835               2              1             1   \n",
       "\n",
       "      event_percentage  zero_event_percentage  events_per_day  \n",
       "0             7.826087              92.173913        0.078261  \n",
       "1            11.965812              88.034188        0.119658  \n",
       "2             9.401709              90.598291        0.094017  \n",
       "3             6.363636              93.636364        0.063636  \n",
       "4            12.068966              87.931034        0.120690  \n",
       "...                ...                    ...             ...  \n",
       "3419        100.000000               0.000000        1.000000  \n",
       "3420        100.000000               0.000000        1.000000  \n",
       "3421        100.000000               0.000000        1.000000  \n",
       "3422        100.000000               0.000000        1.000000  \n",
       "3423        100.000000               0.000000        1.000000  \n",
       "\n",
       "[3424 rows x 7 columns]"
      ]
     },
     "execution_count": 14,
     "metadata": {},
     "output_type": "execute_result"
    }
   ],
   "source": [
    "# Group by location_id\n",
    "grouped = df.groupby('location_id')\n",
    "\n",
    "days_recorded = grouped.size()  # Number of days recorded foreach POS\n",
    "events_count = grouped['is_event'].sum()  # Total number of events foreach POS\n",
    "total_events = events_count.sum()\n",
    "total_days = days_recorded.sum()\n",
    "total_quantity = grouped['quantity1'].sum() # Quantity volumes foreach POS\n",
    "event_percentage = events_count/days_recorded * 100  # Percentage of events foreach POS\n",
    "zero_event_percentage = (1 - event_percentage / 100) * 100  # Percentage of non-events foreach POS\n",
    "events_per_day = events_count / days_recorded # CEvents per day\n",
    "\n",
    "summary_df = pd.DataFrame({\n",
    "    'total_quantity': total_quantity,\n",
    "    'days_recorded': days_recorded,\n",
    "    'events_count': events_count,\n",
    "    'event_percentage': event_percentage,\n",
    "    'zero_event_percentage': zero_event_percentage,\n",
    "    'events_per_day': events_per_day\n",
    "}).reset_index()\n",
    "summary_df"
   ]
  },
  {
   "cell_type": "markdown",
   "id": "cb1f7f3b-205b-492c-bb1a-09ba3eaa4f97",
   "metadata": {},
   "source": [
    "Analysis insights:\n",
    "\n",
    "- Certain POS have only a single record, making them less suitable for forecasting.\n",
    "- On average, there are about **<span style=\"color:red; font-size:18px;\">3 months</span>** of data per POS, with events comprising roughly 10% of each period (quite low).\n",
    "- A valuable additional analysis could be the geo-spatial distribution of recorded quantities and events, which could help prioritize POS based on activity levels.\n",
    "\n",
    "<span style=\"color:red\"> Note: The dataset consider up to 3 months, so, the forecasting will be quite cripple, since a complete forecasting of a week or a weekday of a specific week should consider the 'average' seasonality of the year.</span>\n",
    "\n",
    "We further summarize the DataFrame to examine boundaries and mean values for the totals.\n",
    "Since some POS locations have only a single data point, we applied the IQR method to trim outliers in event and non-event percentages (min, max, and average)."
   ]
  },
  {
   "cell_type": "code",
   "execution_count": 15,
   "id": "c65f8cce-409d-4b4b-98e4-846ea274ec51",
   "metadata": {},
   "outputs": [
    {
     "data": {
      "text/html": [
       "<div>\n",
       "<style scoped>\n",
       "    .dataframe tbody tr th:only-of-type {\n",
       "        vertical-align: middle;\n",
       "    }\n",
       "\n",
       "    .dataframe tbody tr th {\n",
       "        vertical-align: top;\n",
       "    }\n",
       "\n",
       "    .dataframe thead th {\n",
       "        text-align: right;\n",
       "    }\n",
       "</style>\n",
       "<table border=\"1\" class=\"dataframe\">\n",
       "  <thead>\n",
       "    <tr style=\"text-align: right;\">\n",
       "      <th></th>\n",
       "      <th>Statistic</th>\n",
       "      <th>Max</th>\n",
       "      <th>Min</th>\n",
       "      <th>Average</th>\n",
       "    </tr>\n",
       "  </thead>\n",
       "  <tbody>\n",
       "    <tr>\n",
       "      <th>0</th>\n",
       "      <td>total_quantity</td>\n",
       "      <td>2964.000000</td>\n",
       "      <td>1.000000</td>\n",
       "      <td>70.768107</td>\n",
       "    </tr>\n",
       "    <tr>\n",
       "      <th>1</th>\n",
       "      <td>days_recorded</td>\n",
       "      <td>117.000000</td>\n",
       "      <td>1.000000</td>\n",
       "      <td>101.390771</td>\n",
       "    </tr>\n",
       "    <tr>\n",
       "      <th>2</th>\n",
       "      <td>events_count</td>\n",
       "      <td>74.000000</td>\n",
       "      <td>1.000000</td>\n",
       "      <td>10.271320</td>\n",
       "    </tr>\n",
       "    <tr>\n",
       "      <th>3</th>\n",
       "      <td>event_percentage</td>\n",
       "      <td>26.367659</td>\n",
       "      <td>0.854701</td>\n",
       "      <td>9.832652</td>\n",
       "    </tr>\n",
       "    <tr>\n",
       "      <th>4</th>\n",
       "      <td>zero_event_percentage</td>\n",
       "      <td>99.145299</td>\n",
       "      <td>73.632341</td>\n",
       "      <td>90.167348</td>\n",
       "    </tr>\n",
       "    <tr>\n",
       "      <th>5</th>\n",
       "      <td>events_per_day</td>\n",
       "      <td>1.000000</td>\n",
       "      <td>0.008547</td>\n",
       "      <td>0.103179</td>\n",
       "    </tr>\n",
       "  </tbody>\n",
       "</table>\n",
       "</div>"
      ],
      "text/plain": [
       "               Statistic          Max        Min     Average\n",
       "0         total_quantity  2964.000000   1.000000   70.768107\n",
       "1          days_recorded   117.000000   1.000000  101.390771\n",
       "2           events_count    74.000000   1.000000   10.271320\n",
       "3       event_percentage    26.367659   0.854701    9.832652\n",
       "4  zero_event_percentage    99.145299  73.632341   90.167348\n",
       "5         events_per_day     1.000000   0.008547    0.103179"
      ]
     },
     "execution_count": 15,
     "metadata": {},
     "output_type": "execute_result"
    }
   ],
   "source": [
    "# Trim outliers with IQR method for event_percentage and zero_event_percentage\n",
    "event_percentage_trimmed = trim_outliers(event_percentage)\n",
    "zero_event_percentage_trimmed = trim_outliers(zero_event_percentage)\n",
    "\n",
    "# Max, Min and Mean for summary statistics\n",
    "summary_stats = {\n",
    "    'total_quantity': total_quantity,\n",
    "    'days_recorded': days_recorded,\n",
    "    'events_count': events_count,\n",
    "    'event_percentage': event_percentage_trimmed,\n",
    "    'zero_event_percentage': zero_event_percentage_trimmed,\n",
    "    'events_per_day': events_per_day\n",
    "}\n",
    "\n",
    "summary_list = []\n",
    "\n",
    "for stat_name, stat_values in summary_stats.items():\n",
    "    summary_list.append({\n",
    "        'Statistic': stat_name,\n",
    "        'Max': stat_values.max(),\n",
    "        'Min': stat_values.min(),\n",
    "        'Average': stat_values.mean()\n",
    "    })\n",
    "\n",
    "summary_df = pd.DataFrame(summary_list)\n",
    "summary_df"
   ]
  },
  {
   "cell_type": "markdown",
   "id": "b5cbfa85-a53e-4529-8ccd-fdea448e05de",
   "metadata": {},
   "source": [
    "As previously mentioned, analyzing the geo-spatial distribution of quantities and events could provide valuable insights.\n",
    "This approach helps identify regions with higher or lower activity levels, both in terms of quantities and events.\n",
    "Additionally, it may reveal data tracking gaps in certain boundary regions, as indicated by earlier metrics."
   ]
  },
  {
   "cell_type": "code",
   "execution_count": 16,
   "id": "3f0feafe-fa38-4261-aacc-3d1b753d8298",
   "metadata": {},
   "outputs": [],
   "source": [
    "df_GEO = df.groupby('location_id').agg(\n",
    "    days_recorded=('delivery_date', 'size'),  \n",
    "    events_count=('is_event', 'sum'),            \n",
    "    quantity=('quantity1', 'sum'),                \n",
    "    latitude=('latitude', 'first'),              \n",
    "    longitude=('longitude', 'first')\n",
    ").reset_index()"
   ]
  },
  {
   "cell_type": "code",
   "execution_count": 17,
   "id": "8d6717bb-e0f0-4077-9bbd-3934c957b636",
   "metadata": {
    "editable": true,
    "slideshow": {
     "slide_type": ""
    },
    "tags": []
   },
   "outputs": [
    {
     "data": {
      "text/html": [
       "<iframe\n",
       "    scrolling=\"no\"\n",
       "    width=\"1220px\"\n",
       "    height=\"620\"\n",
       "    src=\"iframe_figures/figure_17.html\"\n",
       "    frameborder=\"0\"\n",
       "    allowfullscreen\n",
       "></iframe>\n"
      ]
     },
     "metadata": {},
     "output_type": "display_data"
    }
   ],
   "source": [
    "figure = location3D(df_GEO)\n",
    "figure.show(renderer=\"iframe_connected\")"
   ]
  },
  {
   "cell_type": "markdown",
   "id": "24b28481-46b4-4eee-b53f-ecd201410437",
   "metadata": {},
   "source": [
    "The data clearly shows a concentration of flows in the central area compared to other regions.\n",
    "This suggests that POS in central areas should be prioritized for forecasting, as the higher volume of events there could yield more accurate forecasts. \n",
    "Additionally, we might consider applying different forecasting methods for high-priority and low-priority POS, depending on the volume of available data and events for each."
   ]
  },
  {
   "cell_type": "markdown",
   "id": "dad833cd-2504-4d15-af13-72126005e08f",
   "metadata": {},
   "source": [
    "### 4.2 Quantity volumes over time for specific POS IDs\n",
    "Since we have a big boy here, prompt the user to select up to x POS location IDs to visualize quantity flow activities."
   ]
  },
  {
   "cell_type": "code",
   "execution_count": 18,
   "id": "6a93e1cd-2fff-43a5-9e24-2fbf6121cae5",
   "metadata": {},
   "outputs": [
    {
     "data": {
      "text/markdown": [
       "### Enter the POS IDs to visualize:"
      ],
      "text/plain": [
       "<IPython.core.display.Markdown object>"
      ]
     },
     "metadata": {},
     "output_type": "display_data"
    },
    {
     "data": {
      "application/vnd.jupyter.widget-view+json": {
       "model_id": "b51a39c374af419ab8d519c84f9e6334",
       "version_major": 2,
       "version_minor": 0
      },
      "text/plain": [
       "TagsInput(value=['3719', '2885'], allow_duplicates=False, placeholder='es. 2885')"
      ]
     },
     "metadata": {},
     "output_type": "display_data"
    }
   ],
   "source": [
    "ID_tags = widgets.TagsInput(\n",
    "    value=('3719', location_ids_str[1]),\n",
    "    allow_duplicates=False,\n",
    "    placeholder='es. 2885',\n",
    ")\n",
    "display(Markdown(\"### Enter the POS IDs to visualize:\"),ID_tags)"
   ]
  },
  {
   "cell_type": "markdown",
   "id": "23484602-46f0-4175-866c-7d5c06112f38",
   "metadata": {},
   "source": [
    "For each entered POS ID, the quantities for the period, weekly and weekday totals are visualized.\n",
    "The weekday data is particularly interesting, as it can highlight the weekdays with no events."
   ]
  },
  {
   "cell_type": "code",
   "execution_count": 19,
   "id": "2b9e2176-9bd7-4909-b5e5-7584a1dc7ced",
   "metadata": {},
   "outputs": [
    {
     "data": {
      "text/html": [
       "<div>\n",
       "<style scoped>\n",
       "    .dataframe tbody tr th:only-of-type {\n",
       "        vertical-align: middle;\n",
       "    }\n",
       "\n",
       "    .dataframe tbody tr th {\n",
       "        vertical-align: top;\n",
       "    }\n",
       "\n",
       "    .dataframe thead th {\n",
       "        text-align: right;\n",
       "    }\n",
       "</style>\n",
       "<table border=\"1\" class=\"dataframe\">\n",
       "  <thead>\n",
       "    <tr style=\"text-align: right;\">\n",
       "      <th></th>\n",
       "      <th>Location_3719_mean</th>\n",
       "      <th>Location_3719_var</th>\n",
       "      <th>Location_2885_mean</th>\n",
       "      <th>Location_2885_var</th>\n",
       "    </tr>\n",
       "    <tr>\n",
       "      <th>weekday</th>\n",
       "      <th></th>\n",
       "      <th></th>\n",
       "      <th></th>\n",
       "      <th></th>\n",
       "    </tr>\n",
       "  </thead>\n",
       "  <tbody>\n",
       "    <tr>\n",
       "      <th>Monday</th>\n",
       "      <td>134.538462</td>\n",
       "      <td>8175.102564</td>\n",
       "      <td>8.0</td>\n",
       "      <td>2.461538</td>\n",
       "    </tr>\n",
       "    <tr>\n",
       "      <th>Wednesday</th>\n",
       "      <td>141.250000</td>\n",
       "      <td>2035.583333</td>\n",
       "      <td>-</td>\n",
       "      <td>-</td>\n",
       "    </tr>\n",
       "    <tr>\n",
       "      <th>Thursday</th>\n",
       "      <td>94.500000</td>\n",
       "      <td>5731.9</td>\n",
       "      <td>-</td>\n",
       "      <td>-</td>\n",
       "    </tr>\n",
       "    <tr>\n",
       "      <th>Friday</th>\n",
       "      <td>83.000000</td>\n",
       "      <td>-</td>\n",
       "      <td>-</td>\n",
       "      <td>-</td>\n",
       "    </tr>\n",
       "  </tbody>\n",
       "</table>\n",
       "</div>"
      ],
      "text/plain": [
       "           Location_3719_mean Location_3719_var Location_2885_mean  \\\n",
       "weekday                                                              \n",
       "Monday             134.538462       8175.102564                8.0   \n",
       "Wednesday          141.250000       2035.583333                  -   \n",
       "Thursday            94.500000            5731.9                  -   \n",
       "Friday              83.000000                 -                  -   \n",
       "\n",
       "          Location_2885_var  \n",
       "weekday                      \n",
       "Monday             2.461538  \n",
       "Wednesday                 -  \n",
       "Thursday                  -  \n",
       "Friday                    -  "
      ]
     },
     "metadata": {},
     "output_type": "display_data"
    },
    {
     "data": {
      "text/plain": [
       "<module 'matplotlib.pyplot' from 'C:\\\\Users\\\\Tomma\\\\PycharmProjects\\\\Time_series_Cargo_ful\\\\venv\\\\lib\\\\site-packages\\\\matplotlib\\\\pyplot.py'>"
      ]
     },
     "execution_count": 19,
     "metadata": {},
     "output_type": "execute_result"
    },
    {
     "data": {
      "image/png": "[encoded data removed]",
      "text/plain": [
       "<Figure size 2000x1000 with 8 Axes>"
      ]
     },
     "metadata": {},
     "output_type": "display_data"
    }
   ],
   "source": [
    "locations_selected = ID_tags.value\n",
    "plt_quantity = quantity_trends(locations_selected, df, weekly_data, daily_data, df_withoutGEO)\n",
    "combined_stats_df = combined_weekly_stats(locations_selected, weekly_stats)\n",
    "display(combined_stats_df)\n",
    "plt_quantity"
   ]
  },
  {
   "cell_type": "code",
   "execution_count": 20,
   "id": "8bfb29f3-d474-46cf-b518-1c808e55c1e0",
   "metadata": {},
   "outputs": [
    {
     "ename": "NameError",
     "evalue": "name 'location_data' is not defined",
     "output_type": "error",
     "traceback": [
      "\u001b[1;31m---------------------------------------------------------------------------\u001b[0m",
      "\u001b[1;31mNameError\u001b[0m                                 Traceback (most recent call last)",
      "Cell \u001b[1;32mIn[20], line 1\u001b[0m\n\u001b[1;32m----> 1\u001b[0m \u001b[38;5;28mprint\u001b[39m(\u001b[38;5;124m\"\u001b[39m\u001b[38;5;124mMean:\u001b[39m\u001b[38;5;124m\"\u001b[39m, \u001b[43mlocation_data\u001b[49m[\u001b[38;5;124m'\u001b[39m\u001b[38;5;124mquantity1\u001b[39m\u001b[38;5;124m'\u001b[39m]\u001b[38;5;241m.\u001b[39mmean())\n\u001b[0;32m      2\u001b[0m \u001b[38;5;28mprint\u001b[39m(\u001b[38;5;124m\"\u001b[39m\u001b[38;5;124mMedian:\u001b[39m\u001b[38;5;124m\"\u001b[39m, location_data[\u001b[38;5;124m'\u001b[39m\u001b[38;5;124mquantity1\u001b[39m\u001b[38;5;124m'\u001b[39m]\u001b[38;5;241m.\u001b[39mmedian())\n\u001b[0;32m      3\u001b[0m \u001b[38;5;28mprint\u001b[39m(\u001b[38;5;124m\"\u001b[39m\u001b[38;5;124mVariance:\u001b[39m\u001b[38;5;124m\"\u001b[39m, location_data[\u001b[38;5;124m'\u001b[39m\u001b[38;5;124mquantity1\u001b[39m\u001b[38;5;124m'\u001b[39m]\u001b[38;5;241m.\u001b[39mvar())\n",
      "\u001b[1;31mNameError\u001b[0m: name 'location_data' is not defined"
     ]
    }
   ],
   "source": [
    "print(\"Mean:\", location_data['quantity1'].mean())\n",
    "print(\"Median:\", location_data['quantity1'].median())\n",
    "print(\"Variance:\", location_data['quantity1'].var())"
   ]
  },
  {
   "cell_type": "markdown",
   "id": "18fd1cae-7bea-4207-8f87-d19dc4f27c8c",
   "metadata": {},
   "source": [
    "### 4.3 Check for Seasonality and Trends"
   ]
  },
  {
   "cell_type": "code",
   "execution_count": null,
   "id": "5641933e-2198-4ed1-8b11-05a212adfc9c",
   "metadata": {},
   "outputs": [],
   "source": [
    "decomposition = seasonal_decompose(location_data['quantity1'], model='additive', period=7)\n",
    "decomposition.plot()\n",
    "plt"
   ]
  },
  {
   "cell_type": "markdown",
   "id": "fb39e890-ce69-4220-a2c5-1fd6a055323c",
   "metadata": {},
   "source": [
    "Calculate some statistics"
   ]
  },
  {
   "cell_type": "markdown",
   "id": "b16b057e-34f3-48c3-9528-3fec00f394a7",
   "metadata": {},
   "source": [
    "## 5. ARIMA Forecasting Algorithm"
   ]
  },
  {
   "cell_type": "code",
   "execution_count": null,
   "id": "75f713aa-1b5f-411d-b4fa-8983417d709c",
   "metadata": {},
   "outputs": [],
   "source": [
    "# Fit ARIMA model (try different values for p, d, q)\n",
    "model = ARIMA(location_data['quantity1'], order=(1, 1, 1))\n",
    "model_fit = model.fit()\n",
    "\n",
    "# Make a forecast\n",
    "forecast = model_fit.forecast(steps=7)  # Forecast for the next 7 days\n",
    "forecast"
   ]
  },
  {
   "cell_type": "markdown",
   "id": "2f1dd8b2-a515-4648-a1f8-d295aa731c40",
   "metadata": {},
   "source": [
    "## 6. KPIs Evaluation"
   ]
  },
  {
   "cell_type": "code",
   "execution_count": null,
   "id": "598abb65-6b83-4ebc-9fed-608240433b67",
   "metadata": {},
   "outputs": [],
   "source": [
    "# Train-test split\n",
    "train = location_data['quantity1'][:-7]\n",
    "test = location_data['quantity1'][-7:]\n",
    "\n",
    "# Fit the model on the training data\n",
    "model = ARIMA(train, order=(1, 1, 1))\n",
    "model_fit = model.fit()\n",
    "predictions = model_fit.forecast(steps=7)\n",
    "\n",
    "# Calculate error metrics\n",
    "mae = mean_absolute_error(test, predictions)\n",
    "mse = mean_squared_error(test, predictions)\n",
    "print(f\"MAE: {mae}, MSE: {mse}\")"
   ]
  },
  {
   "cell_type": "markdown",
   "id": "764cabdb-6d5c-4d05-afc0-ff40ce2b4ee5",
   "metadata": {},
   "source": [
    "## 7. Actual quantities VS Forecast"
   ]
  },
  {
   "cell_type": "code",
   "execution_count": null,
   "id": "17a443e6-189c-442e-8981-db3300d7160a",
   "metadata": {},
   "outputs": [],
   "source": [
    "plt.figure(figsize=(12, 6))\n",
    "plt.plot(location_data['delivery_date'], location_data['quantity1'], label='Actual')\n",
    "plt.plot(location_data['delivery_date'][-7:], predictions, label='Forecast', color='red')\n",
    "plt.xlabel('Date')\n",
    "plt.ylabel('Quantity')\n",
    "plt.title(f'Forecast vs. Actual for Location {location_id}')\n",
    "plt.legend()\n",
    "plt.show()"
   ]
  },
  {
   "cell_type": "code",
   "execution_count": null,
   "id": "9e534a41-788e-452c-871e-3c9e9c7bb630",
   "metadata": {},
   "outputs": [],
   "source": []
  }
 ],
 "metadata": {
  "kernelspec": {
   "display_name": "Python 3 (ipykernel)",
   "language": "python",
   "name": "python3"
  },
  "language_info": {
   "codemirror_mode": {
    "name": "ipython",
    "version": 3
   },
   "file_extension": ".py",
   "mimetype": "text/x-python",
   "name": "python",
   "nbconvert_exporter": "python",
   "pygments_lexer": "ipython3",
   "version": "3.9.11"
  }
 },
 "nbformat": 4,
 "nbformat_minor": 5
}
